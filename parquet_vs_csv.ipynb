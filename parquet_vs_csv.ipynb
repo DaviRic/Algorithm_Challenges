{
 "cells": [
  {
   "cell_type": "markdown",
   "id": "ffcbe378",
   "metadata": {},
   "source": [
    "Gerando um DataFrame grande de exemplo"
   ]
  },
  {
   "cell_type": "code",
   "execution_count": 1,
   "id": "8ea93eb6",
   "metadata": {},
   "outputs": [],
   "source": [
    "import pandas as pd\n",
    "import numpy as np\n",
    "\n",
    "df = pd.DataFrame({\n",
    "    \"id\": range(1, 1_000_001),\n",
    "    \"categoria\": np.random.choice([\"A\", \"B\", \"C\", \"D\"], size=1_000_000),\n",
    "    \"valor\": np.random.rand(1_000_000) * 1000,\n",
    "    \"data\": pd.date_range(start=\"2020-01-01\", periods=1_000_000, freq=\"min\")\n",
    "})"
   ]
  },
  {
   "cell_type": "markdown",
   "id": "fce685f4",
   "metadata": {},
   "source": [
    "Salvando os dados nos formatos CSV e Parquet e exibindo o tempo de criação dos arquivos com os dados"
   ]
  },
  {
   "cell_type": "code",
   "execution_count": 3,
   "id": "9cd6abcd",
   "metadata": {},
   "outputs": [
    {
     "name": "stdout",
     "output_type": "stream",
     "text": [
      "Tempo CSV: 4.04 segundos\n",
      "Tempo Parquet: 0.28 segundos\n"
     ]
    }
   ],
   "source": [
    "import time\n",
    "\n",
    "# Passando os dados para um arquivo CSV\n",
    "start_csv = time.time()\n",
    "df.to_csv(\"dados.csv\", index=False)\n",
    "print(f\"Tempo CSV: {round(time.time() - start_csv, 2)} segundos\")\n",
    "\n",
    "# Passando os dados para um arquivo Parquet\n",
    "start_parquet = time.time()\n",
    "df.to_parquet(\"dados.parquet\", index=False)\n",
    "print(f\"Tempo Parquet: {round(time.time() - start_parquet, 2)} segundos\")"
   ]
  },
  {
   "cell_type": "markdown",
   "id": "48972561",
   "metadata": {},
   "source": [
    "Comparação do tamanho em MB dos arquivos CSV e Parquet"
   ]
  },
  {
   "cell_type": "code",
   "execution_count": 5,
   "id": "84e52b53",
   "metadata": {},
   "outputs": [
    {
     "name": "stdout",
     "output_type": "stream",
     "text": [
      "Tamanho do arquivo CSV:  45.83 MB\n",
      "Tamanho do arquivo Parquet:  19.18 MB\n"
     ]
    }
   ],
   "source": [
    "import os\n",
    "\n",
    "csv_size = os.path.getsize(\"dados.csv\") / 1024 / 1024\n",
    "parquet_size = os.path.getsize(\"dados.parquet\") / 1024 / 1024\n",
    "\n",
    "print(f\"Tamanho do arquivo CSV: {csv_size: .2f} MB\")\n",
    "print(f\"Tamanho do arquivo Parquet: {parquet_size: .2f} MB\")"
   ]
  },
  {
   "cell_type": "markdown",
   "id": "14cda815",
   "metadata": {},
   "source": [
    "Verificando e comparando os tipos de dados dos dois tipos de arquivos"
   ]
  },
  {
   "cell_type": "code",
   "execution_count": 11,
   "id": "aae29165",
   "metadata": {},
   "outputs": [
    {
     "name": "stdout",
     "output_type": "stream",
     "text": [
      "Tipos de dados CSV:\n",
      "id             int64\n",
      "categoria     object\n",
      "valor        float64\n",
      "data          object\n",
      "dtype: object\n",
      "\n",
      "Tipos de dados Parquet:\n",
      "id                    int64\n",
      "categoria            object\n",
      "valor               float64\n",
      "data         datetime64[ns]\n",
      "dtype: object\n"
     ]
    }
   ],
   "source": [
    "df_csv = pd.read_csv(\"dados.csv\")\n",
    "df_parquet = pd.read_parquet(\"dados.parquet\")\n",
    "\n",
    "print(\"Tipos de dados CSV:\")\n",
    "print(df_csv.dtypes)\n",
    "print()\n",
    "print(\"Tipos de dados Parquet:\")\n",
    "print(df_parquet.dtypes)"
   ]
  },
  {
   "cell_type": "markdown",
   "id": "b9ce7a8b",
   "metadata": {},
   "source": [
    "Comparando tempo de leitura"
   ]
  },
  {
   "cell_type": "code",
   "execution_count": 13,
   "id": "8f981e9f",
   "metadata": {},
   "outputs": [
    {
     "name": "stdout",
     "output_type": "stream",
     "text": [
      "Tempo de leitura CSV: 1.06 segundos\n",
      "Tempo de leitura Parquet: 0.19 segundos\n"
     ]
    }
   ],
   "source": [
    "# Leitura dos dados do arquivo CSV\n",
    "start_csv = time.time()\n",
    "df_csv = pd.read_csv(\"dados.csv\")\n",
    "print(f\"Tempo de leitura CSV: {round(time.time() - start_csv, 2)} segundos\")\n",
    "\n",
    "# Leitura dos dados do arquivo Parquet\n",
    "start_parquet = time.time()\n",
    "df_parquet = pd.read_parquet(\"dados.parquet\")\n",
    "print(f\"Tempo de leitura Parquet: {round(time.time() - start_parquet, 2)} segundos\")"
   ]
  },
  {
   "cell_type": "code",
   "execution_count": null,
   "id": "f110a16a",
   "metadata": {},
   "outputs": [],
   "source": []
  }
 ],
 "metadata": {
  "kernelspec": {
   "display_name": "venv",
   "language": "python",
   "name": "python3"
  },
  "language_info": {
   "codemirror_mode": {
    "name": "ipython",
    "version": 3
   },
   "file_extension": ".py",
   "mimetype": "text/x-python",
   "name": "python",
   "nbconvert_exporter": "python",
   "pygments_lexer": "ipython3",
   "version": "3.13.1"
  }
 },
 "nbformat": 4,
 "nbformat_minor": 5
}
